{
 "cells": [
  {
   "cell_type": "markdown",
   "id": "0957b4ff",
   "metadata": {},
   "source": [
    "### Challenge"
   ]
  },
  {
   "cell_type": "code",
   "execution_count": 8,
   "id": "3efa09bb",
   "metadata": {},
   "outputs": [],
   "source": [
    "# Ouvrir un nouveau fichier sur jupyter notebook et créer une liste d'entiers contenant le nombre d'habitants\n",
    "# de tous les départements français.\n",
    "\n",
    "f = open(\"departements_fr.csv\", \"r\", encoding ='ISO-8859-1')\n",
    "\n",
    "data = f.read()\n",
    "rows = data.split(\"\\n\")"
   ]
  },
  {
   "cell_type": "code",
   "execution_count": 9,
   "id": "468d89db",
   "metadata": {},
   "outputs": [
    {
     "name": "stdout",
     "output_type": "stream",
     "text": [
      "['Ain,643309', 'Aisne,554040', 'Allier,353262', 'Alpes-de-Haute-Provence,166298', 'Alpes-Maritimes,1098785', 'Ardèche,332051', 'Ardennes,287775', 'Ariège,158076', 'Aube,316098', 'Aude,375065', 'Aveyron,289901', 'Bas-Rhin,1131812', 'Bouches-du-Rhône,2035475', 'Calvados,708407', 'Cantal,152400', 'Charente,366787', 'Charente-Maritime,656046', 'Cher,318590', 'Corrèze,249684', 'Corse-du-Sud,154100', \"Côte-d'Or,545001\", \"Côtes-d'Armor,617413\", 'Creuse,124948', 'Deux-Sèvres,384655', 'Dordogne,428651', 'Doubs,549155', 'Drôme,514104', 'Essonne,1286908', 'Eure,616076', 'Eure-et-Loir,445083', 'Finistère,935393', 'Gard,752382', 'Gers,197988', 'Gironde,1556663', 'Guadeloupe,406706', 'Guyane,254845', 'Haute-Corse,175499', 'Haute-Garonne,1344579', 'Haute-Loire,234078', 'Haute-Marne,186698', 'Hautes-Alpes,145213', 'Haute-Saône,246022', 'Haute-Savoie,806447', 'Hautes-Pyrénées,236577', 'Haute-Vienne,384708', 'Haut-Rhin,775941', 'Hauts-de-Seine,1617484', 'Hérault,1127333', 'Ille-et-Vilaine,1060051', 'Indre,232802', 'Indre-et-Loire,619004', 'Isère,1271938', 'Jura,270826', 'La Réunion,541487', 'Landes,414090', 'Loire,774262', 'Loire-Atlantique,1382766', 'Loiret,688098', 'Loir-et-Cher,344121', 'Lot,180016', 'Lot-et-Garonne,343198', 'Lozère,80423', 'Maine-et-Loire,829156', 'Manche,518322', 'Marne,584297', 'Martinique,390252', 'Mayenne,317716', 'Meurthe-et-Moselle,746687', 'Meuse,197763', 'Morbihan,764338', 'Moselle,1065894', 'Nièvre,221048', 'Nord,2640622', 'Oise,838646', 'Orne,297109', 'Paris,2243739', 'Pas-de-Calais,1497668', 'Puy-de-Dôme,661248', 'Pyrénées-Atlantiques,688451', 'Pyrénées-Orientales,474842', 'Rhône,1833002', 'Saône-et-Loire,574229', 'Sarthe,583961', 'Savoie,440777', 'Seine-et-Marne,1400477', 'Seine-Maritime,1284107', 'Seine-Saint-Denis,1582139', 'Somme,583641', 'Tarn,396341', 'Tarn-et-Garonne,258696', 'Territoire de Belfort,147647', 'Val-de-Marne,1377511', \"Val-d'Oise,1221946\", 'Var,1055745', 'Vaucluse,566592', 'Vendée,681469', 'Vienne,444347', 'Vosges,386978', 'Yonne,352433', 'Yvelines,1449398']\n"
     ]
    }
   ],
   "source": [
    "print(rows)"
   ]
  },
  {
   "cell_type": "code",
   "execution_count": 11,
   "id": "dd490dd0",
   "metadata": {},
   "outputs": [
    {
     "name": "stdout",
     "output_type": "stream",
     "text": [
      "[643309, 554040, 353262, 166298, 1098785, 332051, 287775, 158076, 316098, 375065, 289901, 1131812, 2035475, 708407, 152400, 366787, 656046, 318590, 249684, 154100, 545001, 617413, 124948, 384655, 428651, 549155, 514104, 1286908, 616076, 445083, 935393, 752382, 197988, 1556663, 406706, 254845, 175499, 1344579, 234078, 186698, 145213, 246022, 806447, 236577, 384708, 775941, 1617484, 1127333, 1060051, 232802, 619004, 1271938, 270826, 541487, 414090, 774262, 1382766, 688098, 344121, 180016, 343198, 80423, 829156, 518322, 584297, 390252, 317716, 746687, 197763, 764338, 1065894, 221048, 2640622, 838646, 297109, 2243739, 1497668, 661248, 688451, 474842, 1833002, 574229, 583961, 440777, 1400477, 1284107, 1582139, 583641, 396341, 258696, 147647, 1377511, 1221946, 1055745, 566592, 681469, 444347, 386978, 352433, 1449398]\n"
     ]
    }
   ],
   "source": [
    "int_dep_populations = []\n",
    "\n",
    "for row in rows:\n",
    "    value = row.split(\",\")\n",
    "    int_population = int(value[1])\n",
    "    int_dep_populations.append(int_population)\n",
    "    \n",
    "print(int_dep_populations)"
   ]
  },
  {
   "cell_type": "code",
   "execution_count": 12,
   "id": "520f57a2",
   "metadata": {},
   "outputs": [
    {
     "name": "stdout",
     "output_type": "stream",
     "text": [
      "['Ain', 'Aisne', 'Allier', 'Alpes-de-Haute-Provence', 'Alpes-Maritimes', 'Ardèche', 'Ardennes', 'Ariège', 'Aube', 'Aude', 'Aveyron', 'Bas-Rhin', 'Bouches-du-Rhône', 'Calvados', 'Cantal', 'Charente', 'Charente-Maritime', 'Cher', 'Corrèze', 'Corse-du-Sud', \"Côte-d'Or\", \"Côtes-d'Armor\", 'Creuse', 'Deux-Sèvres', 'Dordogne', 'Doubs', 'Drôme', 'Essonne', 'Eure', 'Eure-et-Loir', 'Finistère', 'Gard', 'Gers', 'Gironde', 'Guadeloupe', 'Guyane', 'Haute-Corse', 'Haute-Garonne', 'Haute-Loire', 'Haute-Marne', 'Hautes-Alpes', 'Haute-Saône', 'Haute-Savoie', 'Hautes-Pyrénées', 'Haute-Vienne', 'Haut-Rhin', 'Hauts-de-Seine', 'Hérault', 'Ille-et-Vilaine', 'Indre', 'Indre-et-Loire', 'Isère', 'Jura', 'La Réunion', 'Landes', 'Loire', 'Loire-Atlantique', 'Loiret', 'Loir-et-Cher', 'Lot', 'Lot-et-Garonne', 'Lozère', 'Maine-et-Loire', 'Manche', 'Marne', 'Martinique', 'Mayenne', 'Meurthe-et-Moselle', 'Meuse', 'Morbihan', 'Moselle', 'Nièvre', 'Nord', 'Oise', 'Orne', 'Paris', 'Pas-de-Calais', 'Puy-de-Dôme', 'Pyrénées-Atlantiques', 'Pyrénées-Orientales', 'Rhône', 'Saône-et-Loire', 'Sarthe', 'Savoie', 'Seine-et-Marne', 'Seine-Maritime', 'Seine-Saint-Denis', 'Somme', 'Tarn', 'Tarn-et-Garonne', 'Territoire de Belfort', 'Val-de-Marne', \"Val-d'Oise\", 'Var', 'Vaucluse', 'Vendée', 'Vienne', 'Vosges', 'Yonne', 'Yvelines']\n"
     ]
    }
   ],
   "source": [
    "str_dep_population = []\n",
    "\n",
    "for row in rows:\n",
    "    val_str = row.split(\",\")\n",
    "    str_population = val_str[0]\n",
    "    str_dep_population.append(str_population)\n",
    "    \n",
    "print(str_dep_population)"
   ]
  },
  {
   "cell_type": "code",
   "execution_count": null,
   "id": "58a4e6b6",
   "metadata": {},
   "outputs": [],
   "source": []
  }
 ],
 "metadata": {
  "kernelspec": {
   "display_name": "Python 3 (ipykernel)",
   "language": "python",
   "name": "python3"
  },
  "language_info": {
   "codemirror_mode": {
    "name": "ipython",
    "version": 3
   },
   "file_extension": ".py",
   "mimetype": "text/x-python",
   "name": "python",
   "nbconvert_exporter": "python",
   "pygments_lexer": "ipython3",
   "version": "3.9.13"
  }
 },
 "nbformat": 4,
 "nbformat_minor": 5
}
