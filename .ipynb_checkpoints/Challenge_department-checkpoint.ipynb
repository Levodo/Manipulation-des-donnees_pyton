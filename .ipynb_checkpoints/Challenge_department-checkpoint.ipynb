{
 "cells": [
  {
   "cell_type": "markdown",
   "id": "aa3f0373",
   "metadata": {},
   "source": [
    "### Challenge"
   ]
  },
  {
   "cell_type": "code",
   "execution_count": 8,
   "id": "70a45792",
   "metadata": {},
   "outputs": [],
   "source": [
    "# Ouvrir un nouveau fichier sur jupyter notebook et créer une liste d'entiers contenant le nombre d'habitants\n",
    "# de tous les départements français.\n",
    "\n",
    "f = open(\"departements_fr.csv\", \"r\", encoding ='ISO-8859-1')\n",
    "\n",
    "data = f.read()\n",
    "rows = data.split(\"\\n\")"
   ]
  },
  {
   "cell_type": "code",
   "execution_count": 9,
   "id": "a68c3c28",
   "metadata": {},
   "outputs": [
    {
     "name": "stdout",
     "output_type": "stream",
     "text": [
      "['Ain,643309', 'Aisne,554040', 'Allier,353262', 'Alpes-de-Haute-Provence,166298', 'Alpes-Maritimes,1098785', 'Ardèche,332051', 'Ardennes,287775', 'Ariège,158076', 'Aube,316098', 'Aude,375065', 'Aveyron,289901', 'Bas-Rhin,1131812', 'Bouches-du-Rhône,2035475', 'Calvados,708407', 'Cantal,152400', 'Charente,366787', 'Charente-Maritime,656046', 'Cher,318590', 'Corrèze,249684', 'Corse-du-Sud,154100', \"Côte-d'Or,545001\", \"Côtes-d'Armor,617413\", 'Creuse,124948', 'Deux-Sèvres,384655', 'Dordogne,428651', 'Doubs,549155', 'Drôme,514104', 'Essonne,1286908', 'Eure,616076', 'Eure-et-Loir,445083', 'Finistère,935393', 'Gard,752382', 'Gers,197988', 'Gironde,1556663', 'Guadeloupe,406706', 'Guyane,254845', 'Haute-Corse,175499', 'Haute-Garonne,1344579', 'Haute-Loire,234078', 'Haute-Marne,186698', 'Hautes-Alpes,145213', 'Haute-Saône,246022', 'Haute-Savoie,806447', 'Hautes-Pyrénées,236577', 'Haute-Vienne,384708', 'Haut-Rhin,775941', 'Hauts-de-Seine,1617484', 'Hérault,1127333', 'Ille-et-Vilaine,1060051', 'Indre,232802', 'Indre-et-Loire,619004', 'Isère,1271938', 'Jura,270826', 'La Réunion,541487', 'Landes,414090', 'Loire,774262', 'Loire-Atlantique,1382766', 'Loiret,688098', 'Loir-et-Cher,344121', 'Lot,180016', 'Lot-et-Garonne,343198', 'Lozère,80423', 'Maine-et-Loire,829156', 'Manche,518322', 'Marne,584297', 'Martinique,390252', 'Mayenne,317716', 'Meurthe-et-Moselle,746687', 'Meuse,197763', 'Morbihan,764338', 'Moselle,1065894', 'Nièvre,221048', 'Nord,2640622', 'Oise,838646', 'Orne,297109', 'Paris,2243739', 'Pas-de-Calais,1497668', 'Puy-de-Dôme,661248', 'Pyrénées-Atlantiques,688451', 'Pyrénées-Orientales,474842', 'Rhône,1833002', 'Saône-et-Loire,574229', 'Sarthe,583961', 'Savoie,440777', 'Seine-et-Marne,1400477', 'Seine-Maritime,1284107', 'Seine-Saint-Denis,1582139', 'Somme,583641', 'Tarn,396341', 'Tarn-et-Garonne,258696', 'Territoire de Belfort,147647', 'Val-de-Marne,1377511', \"Val-d'Oise,1221946\", 'Var,1055745', 'Vaucluse,566592', 'Vendée,681469', 'Vienne,444347', 'Vosges,386978', 'Yonne,352433', 'Yvelines,1449398']\n"
     ]
    }
   ],
   "source": [
    "print(rows)"
   ]
  },
  {
   "cell_type": "code",
   "execution_count": 10,
   "id": "6604abe5",
   "metadata": {},
   "outputs": [
    {
     "ename": "NameError",
     "evalue": "name 'int_dep_population' is not defined",
     "output_type": "error",
     "traceback": [
      "\u001b[1;31m---------------------------------------------------------------------------\u001b[0m",
      "\u001b[1;31mNameError\u001b[0m                                 Traceback (most recent call last)",
      "\u001b[1;32m~\\AppData\\Local\\Temp\\ipykernel_15968\\2183744233.py\u001b[0m in \u001b[0;36m<module>\u001b[1;34m\u001b[0m\n\u001b[0;32m      6\u001b[0m     \u001b[0mint_dep_populations\u001b[0m\u001b[1;33m.\u001b[0m\u001b[0mappend\u001b[0m\u001b[1;33m(\u001b[0m\u001b[0mint_population\u001b[0m\u001b[1;33m)\u001b[0m\u001b[1;33m\u001b[0m\u001b[1;33m\u001b[0m\u001b[0m\n\u001b[0;32m      7\u001b[0m \u001b[1;33m\u001b[0m\u001b[0m\n\u001b[1;32m----> 8\u001b[1;33m \u001b[0mprint\u001b[0m\u001b[1;33m(\u001b[0m\u001b[0mint_dep_population\u001b[0m\u001b[1;33m)\u001b[0m\u001b[1;33m\u001b[0m\u001b[1;33m\u001b[0m\u001b[0m\n\u001b[0m",
      "\u001b[1;31mNameError\u001b[0m: name 'int_dep_population' is not defined"
     ]
    }
   ],
   "source": [
    "int_dep_populations = []\n",
    "\n",
    "for row in rows:\n",
    "    value = row.split(\",\")\n",
    "    int_population = int(value[1])\n",
    "    int_dep_populations.append(int_population)\n",
    "    \n",
    "print(int_dep_populations)"
   ]
  },
  {
   "cell_type": "code",
   "execution_count": null,
   "id": "4cecf4a3",
   "metadata": {},
   "outputs": [],
   "source": []
  }
 ],
 "metadata": {
  "kernelspec": {
   "display_name": "Python 3 (ipykernel)",
   "language": "python",
   "name": "python3"
  },
  "language_info": {
   "codemirror_mode": {
    "name": "ipython",
    "version": 3
   },
   "file_extension": ".py",
   "mimetype": "text/x-python",
   "name": "python",
   "nbconvert_exporter": "python",
   "pygments_lexer": "ipython3",
   "version": "3.9.13"
  }
 },
 "nbformat": 4,
 "nbformat_minor": 5
}
